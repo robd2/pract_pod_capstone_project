{
 "cells": [
  {
   "cell_type": "code",
   "execution_count": 1,
   "metadata": {},
   "outputs": [],
   "source": [
    "import numpy as np\n",
    "import tensorflow as tf\n",
    "\n",
    "import matplotlib.pyplot as plt      # MATLAB like plotting routines\n",
    "import random                        # for generating random numbers\n",
    "\n",
    "from tensorflow.python.keras.layers import Input, Dense   #needed for older version of TF. Newer TF drops .python\n",
    "from tensorflow.python.keras.datasets import mnist     # MNIST dataset is included in Keras\n",
    "from tensorflow.python.keras.models import Sequential  # Model type to be used\n",
    "from tensorflow.python.keras.layers import Dense, Dropout, Activation # Types of layers to be used in our model\n",
    "from tensorflow.python.keras import utils                         # NumPy related tools\n"
   ]
  },
  {
   "cell_type": "code",
   "execution_count": 2,
   "metadata": {},
   "outputs": [
    {
     "name": "stdout",
     "output_type": "stream",
     "text": [
      "X_train shape (60000, 28, 28)\n",
      "y_train shape (60000,)\n",
      "X_test shape (10000, 28, 28)\n",
      "y_test shape (10000,)\n"
     ]
    }
   ],
   "source": [
    "# The MNIST data is split between 60,000 28 x 28 pixel training images and 10,000 28 x 28 pixel images\n",
    "\n",
    "(X_train, y_train), (X_test, y_test) = mnist.load_data()\n",
    "\n",
    "print(\"X_train shape\", X_train.shape)\n",
    "print(\"y_train shape\", y_train.shape)\n",
    "print(\"X_test shape\", X_test.shape)\n",
    "print(\"y_test shape\", y_test.shape)"
   ]
  },
  {
   "cell_type": "code",
   "execution_count": 3,
   "metadata": {},
   "outputs": [
    {
     "data": {
      "image/png": "[encoded data removed]",
      "text/plain": [
       "<Figure size 648x648 with 9 Axes>"
      ]
     },
     "metadata": {
      "needs_background": "light"
     },
     "output_type": "display_data"
    }
   ],
   "source": [
    "# View some of the images\n",
    "\n",
    "plt.rcParams['figure.figsize'] = (9,9) # Make the figures a bit bigger\n",
    "\n",
    "for i in range(9):\n",
    "    plt.subplot(3,3,i+1)\n",
    "    num = random.randint(0, len(X_train))\n",
    "    #plt.imshow(X_train[num], cmap='gray', interpolation='none')\n",
    "    plt.imshow(X_train[num].reshape(28,28))\n",
    "    plt.title(\"Class {}\".format(y_train[num]))\n",
    "    \n",
    "plt.tight_layout()"
   ]
  },
  {
   "cell_type": "code",
   "execution_count": 4,
   "metadata": {},
   "outputs": [
    {
     "name": "stdout",
     "output_type": "stream",
     "text": [
      "0  0  0  0  0  0  0  0  0  0    0    0    0    0    0    0    0    0    0    0  0  0  0  0  0  0  0  0  \n",
      "0  0  0  0  0  0  0  0  0  0    0    0    0    0    0    0    0    0    0    0  0  0  0  0  0  0  0  0  \n",
      "0  0  0  0  0  0  0  0  0  0    0    0    0    0    0    0    0    0    0    0  0  0  0  0  0  0  0  0  \n",
      "0  0  0  0  0  0  0  0  0  0    0    0    0    0    0    0    0    0    0    0  0  0  0  0  0  0  0  0  \n",
      "0  0  0  0  0  0  0  0  0  0    0    0    0    0    0   35  170  242   18    0  0  0  0  0  0  0  0  0  \n",
      "0  0  0  0  0  0  0  0  0  0    0    0    0    0   79  245  254  150    0    0  0  0  0  0  0  0  0  0  \n",
      "0  0  0  0  0  0  0  0  0  0    0    0    0   78  245  222   75    0    0    0  0  0  0  0  0  0  0  0  \n",
      "0  0  0  0  0  0  0  0  0  0    0    0   73  249  205   21    0    0    0    0  0  0  0  0  0  0  0  0  \n",
      "0  0  0  0  0  0  0  0  0  0    0   29  219  211   36    0    0    0    0    0  0  0  0  0  0  0  0  0  \n",
      "0  0  0  0  0  0  0  0  0  0    0  149  254   67    0    0    0    0    0    0  0  0  0  0  0  0  0  0  \n",
      "0  0  0  0  0  0  0  0  0  0   22  236  193    0    0    0    0    0    0    0  0  0  0  0  0  0  0  0  \n",
      "0  0  0  0  0  0  0  0  0  0  112  254   98    0    0    0    0    0    0    0  0  0  0  0  0  0  0  0  \n",
      "0  0  0  0  0  0  0  0  0  0   88  255   98    0    0    0    0    0    0    0  0  0  0  0  0  0  0  0  \n",
      "0  0  0  0  0  0  0  0  0  0    9  212  194   13    0    0    0    0    0    0  0  0  0  0  0  0  0  0  \n",
      "0  0  0  0  0  0  0  0  0  0    0   82  249  143   14    0    0    0    0    0  0  0  0  0  0  0  0  0  \n",
      "0  0  0  0  0  0  0  0  0  0    0    0   91  254  203   48    0    0    0    0  0  0  0  0  0  0  0  0  \n",
      "0  0  0  0  0  0  0  0  0  0    0    0    0   61  226  255  182   43    0    0  0  0  0  0  0  0  0  0  \n",
      "0  0  0  0  0  0  0  0  0  0    0    0    0    0   27  125  221  250  124    6  0  0  0  0  0  0  0  0  \n",
      "0  0  0  0  0  0  0  0  0  0    0    0    0    0    0    0   12  104  254   81  0  0  0  0  0  0  0  0  \n",
      "0  0  0  0  0  0  0  0  0  0    0    0    0    0    0    0    0   44  254  117  0  0  0  0  0  0  0  0  \n",
      "0  0  0  0  0  0  0  0  0  0    0    0    0    0    0    0   67  231  233   48  0  0  0  0  0  0  0  0  \n",
      "0  0  0  0  0  0  0  0  0  0    0    0    0    0   31  148  249  227   32    0  0  0  0  0  0  0  0  0  \n",
      "0  0  0  0  0  0  0  0  0  0  142  173  185  216  245  204  123   24    0    0  0  0  0  0  0  0  0  0  \n",
      "0  0  0  0  0  0  0  0  0  0   88  175  199  122   61    3    0    0    0    0  0  0  0  0  0  0  0  0  \n",
      "0  0  0  0  0  0  0  0  0  0    0    0    0    0    0    0    0    0    0    0  0  0  0  0  0  0  0  0  \n",
      "0  0  0  0  0  0  0  0  0  0    0    0    0    0    0    0    0    0    0    0  0  0  0  0  0  0  0  0  \n",
      "0  0  0  0  0  0  0  0  0  0    0    0    0    0    0    0    0    0    0    0  0  0  0  0  0  0  0  0  \n",
      "0  0  0  0  0  0  0  0  0  0    0    0    0    0    0    0    0    0    0    0  0  0  0  0  0  0  0  0  \n"
     ]
    }
   ],
   "source": [
    "# just a little function for pretty printing a matrix of one image\n",
    "\n",
    "def matprint(mat, fmt=\"g\"):\n",
    "    col_maxes = [max([len((\"{:\"+fmt+\"}\").format(x)) for x in col]) for col in mat.T]\n",
    "    for x in mat:\n",
    "        for i, y in enumerate(x):\n",
    "            print((\"{:\"+str(col_maxes[i])+fmt+\"}\").format(y), end=\"  \")\n",
    "        print(\"\")\n",
    "\n",
    "# now print!        \n",
    "matprint(X_train[num])"
   ]
  },
  {
   "cell_type": "code",
   "execution_count": 5,
   "metadata": {},
   "outputs": [
    {
     "name": "stdout",
     "output_type": "stream",
     "text": [
      "Training matrix shape (60000, 784)\n",
      "Testing matrix shape (10000, 784)\n"
     ]
    }
   ],
   "source": [
    "#reshape & normalize\n",
    "\n",
    "X_train = X_train.reshape(60000, 784) # reshape 60,000 28 x 28 matrices into 60,000 784-length vectors.\n",
    "X_test = X_test.reshape(10000, 784)   # reshape 10,000 28 x 28 matrices into 10,000 784-length vectors.\n",
    "\n",
    "X_train = X_train.astype('float32')   # change integers to 32-bit floating point numbers\n",
    "X_test = X_test.astype('float32')\n",
    "\n",
    "X_train /= 255                        # normalize each value for each pixel for the entire vector for each input\n",
    "X_test /= 255\n",
    "\n",
    "print(\"Training matrix shape\", X_train.shape)\n",
    "print(\"Testing matrix shape\", X_test.shape)"
   ]
  },
  {
   "cell_type": "code",
   "execution_count": 6,
   "metadata": {},
   "outputs": [],
   "source": [
    "# convert to one hots\n",
    "\n",
    "nb_classes = 10 # number of unique digits\n",
    "\n",
    "Y_train = utils.to_categorical(y_train, nb_classes)\n",
    "Y_test = utils.to_categorical(y_test, nb_classes)"
   ]
  },
  {
   "cell_type": "code",
   "execution_count": 7,
   "metadata": {},
   "outputs": [
    {
     "name": "stdout",
     "output_type": "stream",
     "text": [
      "38234\n",
      "[0. 0. 0. 0. 0. 1. 0. 0. 0. 0.]\n"
     ]
    }
   ],
   "source": [
    "#view a little data \n",
    "\n",
    "print (num)\n",
    "print (Y_train[num])"
   ]
  },
  {
   "cell_type": "code",
   "execution_count": null,
   "metadata": {},
   "outputs": [],
   "source": [
    "# First\n",
    "# define model structure\n",
    "\n",
    "\n",
    "model = Sequential()\n",
    "\n",
    "# The first hidden layer is a set of 512 nodes (artificial neurons).\n",
    "# Each node will receive an element from each input vector and apply some weight and bias to it.\n",
    "model.add(Dense(512, input_shape=(784,))) #(784,) is not a typo -- that represents a 784 length vector!\n",
    "\n",
    "# An \"activation\" is a non-linear function applied to the output of the layer above.\n",
    "# It checks the new value of the node, and decides whether that artifical neuron has fired.\n",
    "# The Rectified Linear Unit (ReLU) converts all negative inputs to nodes in the next layer to be zero.\n",
    "# Those inputs are then not considered to be fired.\n",
    "# Positive values of a node are unchanged.\n",
    "model.add(Activation('relu'))\n",
    "\n",
    "\n",
    "# The second hidden layer appears identical to our first layer.\n",
    "# However, instead of each of the 512-node receiving 784-inputs from the input image data,\n",
    "# they receive 512 inputs from the output of the first 512-node layer.\n",
    "model.add(Dense(512))\n",
    "model.add(Activation('relu'))\n",
    "model.add(Dropout(0.2))\n",
    "\n",
    "# The final layer of 10 neurons in fully-connected to the previous 512-node layer.\n",
    "# The final layer of a FCN should be equal to the number of desired classes (10 in this case).\n",
    "model.add(Dense(10))\n",
    "\n",
    "# The \"softmax\" activation represents a probability distribution over K different possible outcomes.\n",
    "# Its values are all non-negative and sum to 1.\n",
    "model.add(Activation('softmax'))\n",
    "\n",
    "# Summarize the built model\n",
    "model.summary()"
   ]
  },
  {
   "cell_type": "code",
   "execution_count": 12,
   "metadata": {},
   "outputs": [
    {
     "name": "stdout",
     "output_type": "stream",
     "text": [
      "_________________________________________________________________\n",
      "Layer (type)                 Output Shape              Param #   \n",
      "=================================================================\n",
      "dense_3 (Dense)              (None, 8)                 6280      \n",
      "_________________________________________________________________\n",
      "activation_3 (Activation)    (None, 8)                 0         \n",
      "_________________________________________________________________\n",
      "dense_4 (Dense)              (None, 10)                90        \n",
      "_________________________________________________________________\n",
      "activation_4 (Activation)    (None, 10)                0         \n",
      "=================================================================\n",
      "Total params: 6,370\n",
      "Trainable params: 6,370\n",
      "Non-trainable params: 0\n",
      "_________________________________________________________________\n"
     ]
    }
   ],
   "source": [
    "# Pre work params\n",
    "# define model structure\n",
    "\n",
    "model = Sequential()\n",
    "\n",
    "model.add(Dense(8, input_shape=(784,))) #(784,) is not a typo -- that represents a 784 length vector!\n",
    "model.add(Activation('sigmoid'))\n",
    "model.add(Dense(10))\n",
    "model.add(Activation('softmax'))\n",
    "\n",
    "# Summarize the built model\n",
    "model.summary()"
   ]
  },
  {
   "cell_type": "code",
   "execution_count": 13,
   "metadata": {},
   "outputs": [],
   "source": [
    "#Define optimizer and loss function\n",
    "\n",
    "# Let's use the Adam optimizer for learning\n",
    "#model.compile(loss='categorical_crossentropy', optimizer='adam', metrics=['accuracy'])\n",
    "model.compile(loss='categorical_crossentropy', optimizer='SGD', metrics=['accuracy'])"
   ]
  },
  {
   "cell_type": "code",
   "execution_count": 14,
   "metadata": {},
   "outputs": [
    {
     "name": "stdout",
     "output_type": "stream",
     "text": [
      "Epoch 1/5\n",
      "60000/60000 [==============================]60000/60000 [==============================] - 1s 19us/step - loss: 2.1961 - acc: 0.309560000 [=================>............] - ETA: 0s - loss: 2.2507 - acc:\n",
      "\n",
      "Epoch 2/5\n",
      "60000/60000 [==============================]60000/60000 [==============================] - 1s 15us/step - loss: 1.9742 - acc: 0.5409\n",
      "\n",
      "Epoch 3/5\n",
      "60000/60000 [==============================]60000/60000 [==============================] - 1s 14us/step - loss: 1.8021 - acc: 0.5938: 0s - loss: 1.8649 \n",
      "\n",
      "Epoch 4/5\n",
      "60000/60000 [==============================]60000/60000 [==============================] - 1s 15us/step - loss: 1.6502 - acc: 0.651660000 [=========================>....] - ETA: 0s - loss: 1.6589 - acc: 0.6\n",
      "\n",
      "Epoch 5/5\n",
      "60000/60000 [==============================]60000/60000 [==============================] - 1s 13us/step - loss: 1.5149 - acc: 0.6979\n",
      "\n"
     ]
    },
    {
     "data": {
      "text/plain": [
       "<tensorflow.python.keras._impl.keras.callbacks.History at 0x21892863f98>"
      ]
     },
     "execution_count": 14,
     "metadata": {},
     "output_type": "execute_result"
    }
   ],
   "source": [
    "#Train the model!\n",
    "model.fit(X_train, Y_train,\n",
    "          batch_size=128, epochs=5,\n",
    "          verbose=1)"
   ]
  },
  {
   "cell_type": "code",
   "execution_count": 15,
   "metadata": {},
   "outputs": [
    {
     "name": "stdout",
     "output_type": "stream",
     "text": [
      "10000/10000 [==============================]10000/10000 [==============================] - 0s 22us/step\n",
      "\n",
      "Test score: 1.4361954563140868\n",
      "Test accuracy: 0.7288\n"
     ]
    }
   ],
   "source": [
    "#Evaluate Model's Accuracy on Test Data\n",
    "score = model.evaluate(X_test, Y_test)\n",
    "print('Test score:', score[0])\n",
    "print('Test accuracy:', score[1])"
   ]
  },
  {
   "cell_type": "code",
   "execution_count": null,
   "metadata": {},
   "outputs": [],
   "source": []
  },
  {
   "cell_type": "code",
   "execution_count": null,
   "metadata": {},
   "outputs": [],
   "source": [
    "# The predict_classes function outputs the highest probability class\n",
    "# according to the trained classifier for each input example.\n",
    "predicted_classes = model.predict_classes(X_test)\n",
    "\n",
    "# Check which items we got right / wrong\n",
    "correct_indices = np.nonzero(predicted_classes == y_test)[0]\n",
    "\n",
    "incorrect_indices = np.nonzero(predicted_classes != y_test)[0]"
   ]
  },
  {
   "cell_type": "code",
   "execution_count": null,
   "metadata": {},
   "outputs": [],
   "source": [
    "plt.figure()\n",
    "for i, correct in enumerate(correct_indices[:9]):\n",
    "    plt.subplot(3,3,i+1)\n",
    "    plt.imshow(X_test[correct].reshape(28,28), cmap='gray', interpolation='none')\n",
    "    plt.title(\"Predicted {}, Class {}\".format(predicted_classes[correct], y_test[correct]))\n",
    "    \n",
    "plt.tight_layout()\n",
    "    \n",
    "plt.figure()\n",
    "for i, incorrect in enumerate(incorrect_indices[:9]):\n",
    "    plt.subplot(3,3,i+1)\n",
    "    plt.imshow(X_test[incorrect].reshape(28,28), cmap='gray', interpolation='none')\n",
    "    plt.title(\"Predicted {}, Class {}\".format(predicted_classes[incorrect], y_test[incorrect]))\n",
    "    \n",
    "plt.tight_layout()"
   ]
  },
  {
   "cell_type": "code",
   "execution_count": null,
   "metadata": {},
   "outputs": [],
   "source": []
  },
  {
   "cell_type": "code",
   "execution_count": null,
   "metadata": {},
   "outputs": [],
   "source": []
  },
  {
   "cell_type": "code",
   "execution_count": null,
   "metadata": {},
   "outputs": [],
   "source": []
  },
  {
   "cell_type": "code",
   "execution_count": null,
   "metadata": {},
   "outputs": [],
   "source": [
    "# model = keras.Sequential(\n",
    "#     [\n",
    "#         keras.Input(shape=input_shape),\n",
    "#         tf.keras.layers.Conv2D(32, kernel_size=(3, 3), activation=\"relu\"),\n",
    "#         tf.keras.layers.MaxPooling2D(pool_size=(2, 2)),\n",
    "#         tf.keras.layers.Conv2D(64, kernel_size=(3, 3), activation=\"relu\"),\n",
    "#         tf.keras.layers.MaxPooling2D(pool_size=(2, 2)),\n",
    "#         tf.keras.layers.Flatten(),\n",
    "#         tf.keras.layers.Dropout(0.5),\n",
    "#         tf.keras.layers.Dense(num_classes, activation=\"softmax\"),\n",
    "#     ]\n",
    "# )\n",
    "\n",
    "# model.summary()"
   ]
  },
  {
   "cell_type": "code",
   "execution_count": null,
   "metadata": {},
   "outputs": [],
   "source": []
  },
  {
   "cell_type": "code",
   "execution_count": null,
   "metadata": {},
   "outputs": [],
   "source": []
  }
 ],
 "metadata": {
  "kernelspec": {
   "display_name": "Python [conda env:capstone_dec]",
   "language": "python",
   "name": "conda-env-capstone_dec-py"
  },
  "language_info": {
   "codemirror_mode": {
    "name": "ipython",
    "version": 3
   },
   "file_extension": ".py",
   "mimetype": "text/x-python",
   "name": "python",
   "nbconvert_exporter": "python",
   "pygments_lexer": "ipython3",
   "version": "3.6.12"
  }
 },
 "nbformat": 4,
 "nbformat_minor": 2
}
